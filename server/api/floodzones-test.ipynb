{
 "cells": [
  {
   "cell_type": "code",
   "execution_count": null,
   "metadata": {},
   "outputs": [],
   "source": [
    "%matplotlib ipympl\n",
    "import floodzones\n",
    "import matplotlib.pyplot as plt\n",
    "import osmnx"
   ]
  },
  {
   "cell_type": "code",
   "execution_count": null,
   "metadata": {},
   "outputs": [],
   "source": [
    "db = floodzones.FloodDatabase(floodzones.create_map_graph(\n",
    "    cache_path=\"./cache/rice_campus.pickle\", lat_lon=(29.717997,-95.400547), dist=1500\n",
    "))"
   ]
  },
  {
   "cell_type": "code",
   "execution_count": null,
   "metadata": {},
   "outputs": [],
   "source": [
    "db.update_zone((-95.41, 29.71, -95.39, 29.73), floodzones.ZoneDbEntry(time=1,drone_id=1,flooded=True,confidence=0.5))"
   ]
  },
  {
   "cell_type": "code",
   "execution_count": null,
   "metadata": {},
   "outputs": [],
   "source": [
    "db.update_zone((-95.415, 29.72, -95.385, 29.725), floodzones.ZoneDbEntry(time=1,drone_id=1,flooded=False,confidence=0.5))"
   ]
  },
  {
   "cell_type": "code",
   "execution_count": null,
   "metadata": {},
   "outputs": [],
   "source": [
    "db.update_zone((-95.413, 29.715, -95.40, 29.722), floodzones.ZoneDbEntry(time=1,drone_id=1,flooded=False,confidence=0.5))"
   ]
  },
  {
   "cell_type": "code",
   "execution_count": null,
   "metadata": {},
   "outputs": [],
   "source": [
    "db.update_zone((-95.411, 29.72, -95.405, 29.723), floodzones.ZoneDbEntry(time=1,drone_id=1,flooded=True,confidence=0.5))"
   ]
  },
  {
   "cell_type": "code",
   "execution_count": null,
   "metadata": {},
   "outputs": [],
   "source": [
    "plt.ioff()"
   ]
  },
  {
   "cell_type": "code",
   "execution_count": null,
   "metadata": {},
   "outputs": [],
   "source": [
    "def show():\n",
    "    fig, ax = plt.subplots(figsize=(8, 8))\n",
    "    ax.set_facecolor('#111111')\n",
    "    db._plot(ax)\n",
    "    return fig\n",
    "show()"
   ]
  },
  {
   "cell_type": "code",
   "execution_count": null,
   "metadata": {},
   "outputs": [],
   "source": [
    "plt.ion()"
   ]
  },
  {
   "cell_type": "code",
   "execution_count": null,
   "metadata": {},
   "outputs": [],
   "source": [
    "# lines = []\n",
    "def show():\n",
    "    fig, ax = plt.subplots(figsize=(8, 8))\n",
    "    ax.set_facecolor('#111111')\n",
    "    db._plot(ax)\n",
    "\n",
    "    last_clicked = None\n",
    "    def onclick(event):\n",
    "        nonlocal last_clicked\n",
    "        ix, iy = event.xdata, event.ydata\n",
    "        if last_clicked is None:\n",
    "            last_clicked = (ix, iy)\n",
    "        else:\n",
    "            wet = db.is_path_wet([last_clicked, (ix, iy)])\n",
    "            ax.plot([last_clicked[0], ix], [last_clicked[1], iy], color=\"tab:orange\" if wet else \"tab:green\")\n",
    "            # lines.append([last_clicked, (ix, iy)])\n",
    "            last_clicked = None\n",
    "            \n",
    "    \n",
    "    cid = fig.canvas.mpl_connect('button_press_event', onclick)\n",
    "    \n",
    "    return fig\n",
    "show();"
   ]
  },
  {
   "cell_type": "code",
   "execution_count": null,
   "metadata": {},
   "outputs": [],
   "source": []
  }
 ],
 "metadata": {
  "kernelspec": {
   "display_name": "Python 3 (ipykernel)",
   "language": "python",
   "name": "python3"
  },
  "language_info": {
   "codemirror_mode": {
    "name": "ipython",
    "version": 3
   },
   "file_extension": ".py",
   "mimetype": "text/x-python",
   "name": "python",
   "nbconvert_exporter": "python",
   "pygments_lexer": "ipython3",
   "version": "3.11.10"
  }
 },
 "nbformat": 4,
 "nbformat_minor": 4
}
